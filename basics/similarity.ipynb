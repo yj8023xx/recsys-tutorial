{
 "cells": [
  {
   "cell_type": "markdown",
   "metadata": {},
   "source": [
    "# 相似度"
   ]
  },
  {
   "cell_type": "markdown",
   "metadata": {},
   "source": [
    "## 曼哈顿距离\n",
    "\n",
    "$$d(\\pmb{x},\\pmb{y}) = \\sum_{i=1}^n |x_i - y_i|$$"
   ]
  },
  {
   "cell_type": "markdown",
   "metadata": {},
   "source": [
    "## 欧几里得距离\n",
    "\n",
    "$$d(\\pmb{x},\\pmb{y}) = \\sqrt{\\sum_{i=1}^n (x_i - y_i)^2}$$"
   ]
  },
  {
   "cell_type": "markdown",
   "metadata": {},
   "source": [
    "## 切比雪夫距离\n",
    "\n",
    "$$d(\\pmb{x},\\pmb{y}) = \\mathrm{max}(|x_i - y_i|)$$"
   ]
  },
  {
   "cell_type": "markdown",
   "metadata": {},
   "source": [
    "## 杰卡德相关系数\n",
    "杰卡德（Jaccard）相关系数是衡量两个集合的相似度一种指标。两个用户 $u$ 和 $v$ 交互商品交集的数量占这两个用户交互商品并集的数量的比例，称为两个集合的杰卡德相关系数，用符号 $w_{uv}$ 表示\n",
    "\n",
    "$$w_{uv} = \\frac{|N(u) \\cap N(v)|}{|N(u) \\cup N(v)|}$$\n",
    "\n",
    "其中 $N(u)$，$N(v)$ 分别表示用户 $u$ 和用户 $v$ 交互商品的集合"
   ]
  },
  {
   "cell_type": "markdown",
   "metadata": {},
   "source": [
    "## 余弦相似度\n",
    "余弦相似度衡量了两个向量的夹角，夹角越小越相似\n",
    "\n",
    "首先从集合的角度描述余弦相似度，相比于 Jaccard 公式来说就是分母有差异，不是两个用户交互商品的并集的数量，而是两个用户分别交互的商品数量的乘积\n",
    "\n",
    "$$w_{uv} = \\frac{|N(u) \\cap N(v)|}{\\sqrt{|N(u) || N(v)|}}$$\n",
    "\n",
    "从向量的角度进行描述，令矩阵 $A$ 为用户-商品交互矩阵（因为是 TopN 推荐并不需要用户对物品的评分，只需要知道用户对商品是否有交互就行），即矩阵的每一行表示一个用户对所有商品的交互情况，有交互的商品值为 1 没有交互的商品值为 0，矩阵的列表示所有商品。若用户和商品数量分别为 $m,n$ 的话，交互矩阵 $A$ 就是一个 $m$ 行 $n$  列的矩阵。此时用户的相似度可以表示为\n",
    "\n",
    "$$\\cos(u, v) = \\frac{u \\cdot v}{\\left\\| u \\right\\| \\left\\| v \\right\\|}$$\n",
    "\n",
    "其中 $u \\cdot v$ 指的是向量点积\n",
    "\n",
    "上述用户-商品交互矩阵在现实情况下是非常稀疏的，为了避免存储这么大的稀疏矩阵，在计算用户相似度的时候一般会采用集合的方式进行计算。理论上向量之间的相似度计算公式都可以用来计算用户之间的相似度，但是会根据实际的情况选择不同的用户相似度度量方法"
   ]
  },
  {
   "cell_type": "markdown",
   "metadata": {},
   "source": [
    "## 皮尔逊相关系数\n",
    "皮尔逊（Pearson）相关系数的公式与余弦相似度的计算公式非常的类似\n",
    "\n",
    "首先对于上述的余弦相似度的计算公式写成求和的形式\n",
    "\n",
    "$$w_{uv} = \\frac{\\sum_{i \\in I}r_{ui} \\times r_{vi}}{\\sqrt{\\sum_{i \\in I} r_{ui}^2 \\sum_{i \\in I} r_{vi}^2}}$$\n",
    "\n",
    "其中 $r_{ui}$，$r_{vi}$ 分别表示用户 $u$ 和用户 $v$ 对商品 $i$ 是否有交互（或者具体的评分值）\n",
    "\n",
    "相较于余弦相似度，皮尔逊相关系数通过使用用户的平均分对各独立评分进行修正，减小了用户评分偏置的影响\n",
    "\n",
    "$$w_{uv} = \\frac{\\sum_{i \\in I}(r_{ui} - \\bar{r_u})(r_{vi} - \\bar{r_v})}{\\sqrt{\\sum_{i \\in I}(r_{ui} - \\bar{r_u})^2 \\sum_{i \\in I}(r_{vi} - \\bar{r_v})^2}}$$\n",
    "\n",
    "其中 $\\bar{r_u}$，$\\bar{r_v}$ 分别表示用户 $u$ 和用户 $v$ 交互的所有物品交互数量或者评分的平均值"
   ]
  },
  {
   "cell_type": "code",
   "execution_count": null,
   "metadata": {},
   "outputs": [],
   "source": []
  }
 ],
 "metadata": {
  "kernelspec": {
   "display_name": "Python 3 (ipykernel)",
   "language": "python",
   "name": "python3"
  },
  "language_info": {
   "codemirror_mode": {
    "name": "ipython",
    "version": 3
   },
   "file_extension": ".py",
   "mimetype": "text/x-python",
   "name": "python",
   "nbconvert_exporter": "python",
   "pygments_lexer": "ipython3",
   "version": "3.9.13"
  }
 },
 "nbformat": 4,
 "nbformat_minor": 4
}
