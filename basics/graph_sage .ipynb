{
 "cells": [
  {
   "cell_type": "markdown",
   "id": "8aa7e76e",
   "metadata": {},
   "source": [
    "# GraphSAGE\n",
    "GraphSAGE 包含采样和聚合（Sample and aggregate），首先使用节点之间连接信息，对邻居进行采样，然后通过多层聚合函数不断地将相邻节点的信息融合在一起。用融合后的信息预测节点标签。下图展示了 GraphSAGE 的聚合过程，采用了两层聚合层\n",
    "\n",
    "<img src=\"../img/graphsage.png\" width=\"800\" >"
   ]
  },
  {
   "cell_type": "markdown",
   "id": "3535f9e2",
   "metadata": {},
   "source": [
    "## 算法流程\n",
    "\n",
    "1. 在整体的图数据上，从某一个中心节点开始采样，得到一个 k 阶的子图，示意图中给出的示例是一个二阶子图\n",
    "2. 有了这个二阶子图，我们可以先利用 GNN 把二阶的邻接点聚合成一阶的邻接点（图 2 中绿色的部分），再把一阶的邻接点聚合成这个中心节点（图 2 中蓝色的部分）\n",
    "3. 有了聚合好的这个中心节点的 Embedding，我们就可以去完成一个预测任务，比如这个中心节点的标签是被点击的电影，那我们就可以让这个 GNN 完成一个点击率预估任务\n",
    "\n",
    "<img src=\"../img/graphsage3.png\" width=\"700\" >"
   ]
  },
  {
   "cell_type": "markdown",
   "id": "18eec869",
   "metadata": {},
   "source": [
    "## 聚合函数\n",
    "\n",
    "**Mean aggregator**\n",
    "\n",
    "$$\\pmb{h}_v^k \\leftarrow \\mathrm{MEAN}(\\{\\pmb{h}_u^{k-1},\\forall u \\in \\mathcal{N}(v)\\})$$\n",
    "\n",
    "**GCN aggregator**\n",
    "\n",
    "$$\\pmb{h}_v^k \\leftarrow \\sigma (\\pmb{W} \\cdot \\mathrm{MEAN}(\\{\\pmb{h}_v^{k-1}\\} \\cup \\{\\pmb{h}_u^{k-1},\\forall u \\in \\mathcal{N}(v)\\}))$$\n",
    "\n",
    "**LSTM aggregator**\n",
    "\n",
    "LSTM 有比较好的抽取特征能力，因此可以使用了 LSTM 进行聚合，但是因为节点之间没有明显的顺序关系，因此需要打乱之后放入 LSTM\n",
    "\n",
    "**Pooling aggregator**\n",
    "\n",
    "$$\\pmb{h}_v^k \\leftarrow \\max (\\{\\sigma(\\pmb{W} \\pmb{h}_u^{k-1} + \\pmb{b}),\\forall u \\in \\mathcal{N}(v)\\})$$"
   ]
  },
  {
   "cell_type": "markdown",
   "id": "7f424cc4",
   "metadata": {},
   "source": [
    "## 目标函数\n",
    "GraphSAGE 可以采用无监督训练或者有监督训练\n",
    "\n",
    "无监督训练采用负采样算法，公式如下\n",
    "\n",
    "$$J_G(\\pmb{z}_u) = - \\log (\\sigma(\\pmb{z}_u^\\top \\pmb{z}_v)) - Q \\cdot \\mathbb{E}_{v_n \\ \\sim P_n \\ (v)} \\log (\\sigma(-\\pmb{z}_u^\\top \\pmb{z}_{v_n}))$$\n",
    "\n",
    "其中 $P_n$ 是负采样的概率分布，$Q$ 是负样本的数量，$\\pmb{z}_u$ 通过聚合顶点的邻接点特征产生\n",
    "\n",
    "监督学习形式根据任务的不同直接设置目标函数即可，如最常用的节点分类任务使用交叉熵损失函数"
   ]
  },
  {
   "cell_type": "code",
   "execution_count": null,
   "id": "e339ee48",
   "metadata": {},
   "outputs": [],
   "source": []
  }
 ],
 "metadata": {
  "kernelspec": {
   "display_name": "Python 3 (ipykernel)",
   "language": "python",
   "name": "python3"
  },
  "language_info": {
   "codemirror_mode": {
    "name": "ipython",
    "version": 3
   },
   "file_extension": ".py",
   "mimetype": "text/x-python",
   "name": "python",
   "nbconvert_exporter": "python",
   "pygments_lexer": "ipython3",
   "version": "3.9.13"
  }
 },
 "nbformat": 4,
 "nbformat_minor": 5
}
